{
 "cells": [
  {
   "cell_type": "code",
   "execution_count": 8,
   "id": "17369b08",
   "metadata": {},
   "outputs": [
    {
     "name": "stdout",
     "output_type": "stream",
     "text": [
      "There's a pothole near my house ➝ water\n",
      "Garbage not cleaned in days ➝ sanitation\n",
      "No water in the kitchen tap ➝ water\n"
     ]
    },
    {
     "data": {
      "text/plain": [
       "['../ml/issue_classifier.pkl']"
      ]
     },
     "execution_count": 8,
     "metadata": {},
     "output_type": "execute_result"
    }
   ],
   "source": [
    "import pandas as pd\n",
    "from sklearn.model_selection import train_test_split\n",
    "from sklearn.feature_extraction.text import TfidfVectorizer\n",
    "from sklearn.naive_bayes import MultinomialNB\n",
    "from sklearn.pipeline import make_pipeline\n",
    "import joblib\n",
    "import os\n",
    "\n",
    "# Load data\n",
    "df = pd.read_csv('../data/sample_issues.csv')\n",
    "\n",
    "# Drop missing values\n",
    "df.dropna(inplace=True)\n",
    "\n",
    "# Create pipeline: TF-IDF + Naive Bayes\n",
    "model = make_pipeline(\n",
    "    TfidfVectorizer(stop_words='english'),\n",
    "    MultinomialNB()\n",
    ")\n",
    "\n",
    "# Train on all data (since we have few samples)\n",
    "model.fit(df['description'], df['category'])\n",
    "\n",
    "# Check a few predictions manually\n",
    "sample_texts = [\n",
    "    \"There's a pothole near my house\",\n",
    "    \"Garbage not cleaned in days\",\n",
    "    \"No water in the kitchen tap\"\n",
    "]\n",
    "\n",
    "for text in sample_texts:\n",
    "    print(f\"{text} ➝ {model.predict([text])[0]}\")\n",
    "# Save model\n",
    "os.makedirs('../ml', exist_ok=True)\n",
    "joblib.dump(model, '../ml/issue_classifier.pkl')\n"
   ]
  }
 ],
 "metadata": {
  "kernelspec": {
   "display_name": "Python 3",
   "language": "python",
   "name": "python3"
  },
  "language_info": {
   "codemirror_mode": {
    "name": "ipython",
    "version": 3
   },
   "file_extension": ".py",
   "mimetype": "text/x-python",
   "name": "python",
   "nbconvert_exporter": "python",
   "pygments_lexer": "ipython3",
   "version": "3.9.13"
  }
 },
 "nbformat": 4,
 "nbformat_minor": 5
}
